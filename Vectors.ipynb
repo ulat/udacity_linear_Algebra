{
 "cells": [
  {
   "cell_type": "code",
   "execution_count": null,
   "metadata": {
    "collapsed": false,
    "nbpresent": {
     "id": "3e3c6f52-7935-4024-8a1c-ac8877298d47"
    }
   },
   "outputs": [],
   "source": [
    "import numpy as np\n",
    "from math import sqrt, acos, pi\n",
    "from decimal import Decimal, getcontext\n",
    "\n",
    "class Vector(object):\n",
    "    '''Class for Vectormanipulation'''\n",
    "    \n",
    "    CANNOT_NORMALIZE_ZERO_VECTOR_MSG = 'Cannot normalize the zero vector'\n",
    "    NO_UNIQUE_ORTHOGONAL_COMPONENT_MSG = 'No unique orthogonal component'\n",
    "    \n",
    "    '''Initializer with Coordinates'''\n",
    "    def __init__(self, coordinates):\n",
    "        try:\n",
    "            if not coordinates:\n",
    "                raise ValueError\n",
    "            self.coordinates = tuple([Decimal(x) for x in coordinates])\n",
    "            self.dimension = len(coordinates)\n",
    "\n",
    "        except ValueError:\n",
    "            raise ValueError('The coordinates must be nonempty')\n",
    "\n",
    "        except TypeError:\n",
    "            raise TypeError('The coordinates must be an iterable')\n",
    "\n",
    "\n",
    "    '''Initializer without Coordinates'''\n",
    "    def __str__(self):\n",
    "        return 'Vector: {}'.format(self.coordinates)\n",
    "\n",
    "    '''Equals Function'''\n",
    "    def __eq__(self, v):\n",
    "        return self.coordinates == v.coordinates\n",
    "    \n",
    "    '''Vector Addition'''\n",
    "    def add(self, v):\n",
    "        newCoordinates = [x+y for x,y in zip(self.coordinates, v.coordinates)]\n",
    "        return Vector(newCoordinates)\n",
    "    \n",
    "    '''Vector Subtraction'''\n",
    "    def minus(self, v):\n",
    "        newCoordinates = [x-y for x,y in zip(self.coordinates, v.coordinates)]\n",
    "        return Vector(newCoordinates)\n",
    "    \n",
    "    '''Scalar Multiplication'''\n",
    "    def times_scalar(self, c):\n",
    "        newCoordinates = [Decimal(c)*s for s in self.coordinates]\n",
    "        return Vector(newCoordinates)\n",
    "    \n",
    "    '''Dot-Product with another Vector'''\n",
    "    def dot_product(self, v):\n",
    "        return np.dot(np.asarray(self.coordinates), np.asarray(v.coordinates))\n",
    "    \n",
    "    '''Magnitude of the vector'''\n",
    "    def magnitude(self):\n",
    "        return self.dot_product(self) ** Decimal(0.5)\n",
    "    \n",
    "    '''Normalization'''\n",
    "    def normalized(self):\n",
    "        try:\n",
    "            return self.times_scalar(Decimal('1.0')/self.magnitude())\n",
    "        except ZeroDivisionError:\n",
    "            raise Exception(self.CANNOT_NORMALIZE_ZERO_VECTOR_MSG)\n",
    "            \n",
    "    '''Angle between two Vectors'''\n",
    "    def angle_with(self, v, degrees=False):\n",
    "        try:\n",
    "            u1 = self.normalized()\n",
    "            u2 = v.normalized()\n",
    "            angle_in_radians = acos(u1.dot_product(u2))\n",
    "            \n",
    "            if in_degrees:\n",
    "                degrees_per_radian = 180. / pi\n",
    "                return angle_in_radians * degrees_per_radian\n",
    "            else:\n",
    "                return angle_in_radians\n",
    "            \n",
    "        except Exception as e:\n",
    "            if str(e) == self.CANNOT_NORMALIZE_ZERO_VECTOR_MSG:\n",
    "                raise Exception('Cannot compute an angle with the zero vector')\n",
    "            else:\n",
    "                raise e\n",
    "        return \n",
    "        \n",
    "    '''Vector is orthogonal to Basis'''\n",
    "    def component_orthogonal_to(self, basis):\n",
    "        try:\n",
    "            projection = self.component_parallel_to(basis)\n",
    "            return self.minus(projection)\n",
    "        \n",
    "        except Exception as e:\n",
    "            if str(e) == self.NO_UNIQUE_ORTHOGONAL_COMPONENT_MSG:\n",
    "                raise Exception(self.NO_UNIQUE_ORTHOGONAL_COMPONENT_MSG)\n",
    "            else:\n",
    "                raise e\n",
    "    \n",
    "    '''Vector is parallel to basis'''\n",
    "    def component_parallel_to(self, basis):\n",
    "        try:\n",
    "            u = basis.normalized()\n",
    "            weight = self.dot_product(u)\n",
    "            return u.times_scalar(weight)\n",
    "        \n",
    "        except Exception as e:\n",
    "            if str(e) == self.CANNOT_NORMALIZE_ZERO_VECTOR_MSG:\n",
    "                raise Exception(self.NO_UNIQUE_PARALLEL_COMPONENT_MSG)\n",
    "            else:\n",
    "                raise e\n",
    "                \n",
    "    def is_orthogonal_to(self, v, tolerance=1e-10):\n",
    "        return abs(self.dot(v)) < tolerance\n",
    "    \n",
    "    def is_parallel_to(self, v):\n",
    "        return self.is_zero() or v.is_zero() or self.angle_with(v) == 0 or self.angle_with(v) == -1\n",
    "    \n",
    "    '''Cross Product of Vectors using cross product from numpy arrays'''\n",
    "    def cross(self, v):\n",
    "        return np.cross(np.asarray(self.coordinates), np.asarray(v.coordinates))\n",
    "    \n",
    "    '''Area of the parallelogram below the vectors'''\n",
    "    def area_of_parallelogram(self, v):\n",
    "        return self.cross(v).magnitude()\n",
    "    \n",
    "    '''Area of the triangle (0.5 the area of the parallelogram)'''\n",
    "    def area_of_triangle(self, v):\n",
    "        return area_of_parallelogram(v) / Decimal('2.0')"
   ]
  },
  {
   "cell_type": "code",
   "execution_count": 12,
   "metadata": {
    "collapsed": false,
    "nbpresent": {
     "id": "d1256e61-e4de-42c3-8d29-21719191822f"
    }
   },
   "outputs": [
    {
     "name": "stdout",
     "output_type": "stream",
     "text": [
      "Vector: (Decimal('1.082606962484466633513478909'), Decimal('2.671742758325302083755623254'))\n",
      "Vector: (Decimal('-8.350081043195763114117174637'), Decimal('3.376061254287719853135464877'), Decimal('-1.433746042781185897982350548'))\n"
     ]
    }
   ],
   "source": [
    "v = Vector([3.039, 1.879])\n",
    "b = Vector([0.825, 2.036])\n",
    "print (v.component_parallel_to(b))\n",
    "\n",
    "v = Vector([-9.88,-3.264,-8.159])\n",
    "b = Vector([-2.155,-9.353,-9.473])\n",
    "print (v.component_orthogonal_to(b))"
   ]
  },
  {
   "cell_type": "code",
   "execution_count": 39,
   "metadata": {
    "collapsed": false,
    "nbpresent": {
     "id": "5b436bcd-5c59-48de-8b45-d77f106ced64"
    }
   },
   "outputs": [
    {
     "name": "stdout",
     "output_type": "stream",
     "text": [
      "Vector: (3, 3, 3)\n",
      "12\n",
      "3.46410161514\n",
      "Vector: (0.57735026918962584, 0.57735026918962584, 0.57735026918962584)\n"
     ]
    }
   ],
   "source": [
    "vec1 = Vector([2,2,2])\n",
    "vec2 = Vector([1,1,1])\n",
    "vecAdd = vec1.add(vec2)\n",
    "vecProd = vec1.dot_product(vec1)\n",
    "mag = vec1.magnitude()\n",
    "dir = vec1.normalized()\n",
    "print(vecAdd)\n",
    "print(vecProd)\n",
    "print(mag)\n",
    "print(dir)"
   ]
  },
  {
   "cell_type": "code",
   "execution_count": 40,
   "metadata": {
    "collapsed": false,
    "nbpresent": {
     "id": "179fdb86-1bc6-4fd5-b4b3-ff230aa23e76"
    }
   },
   "outputs": [
    {
     "name": "stdout",
     "output_type": "stream",
     "text": [
      "7.44028292473\n",
      "10.8841875673\n",
      "Vector: (0.93393521408664026, -0.35744232526233)\n",
      "Vector: (0.34040129594330137, 0.53004370129848732, -0.7766470449528029)\n"
     ]
    }
   ],
   "source": [
    "vec1 = Vector([-0.221,7.437])\n",
    "vec2 = Vector([8.813, -1.331, -6.247])\n",
    "print (vec1.magnitude())\n",
    "print (vec2.magnitude())\n",
    "\n",
    "vec3 = Vector([5.581, -2.136])\n",
    "vec4 = Vector([1.996, 3.108, -4.554])\n",
    "print (vec3.normalized())\n",
    "print (vec4.normalized())"
   ]
  },
  {
   "cell_type": "code",
   "execution_count": null,
   "metadata": {
    "collapsed": true
   },
   "outputs": [],
   "source": [
    "1000000000+sum([0.000001]*1000000)-1000000000"
   ]
  }
 ],
 "metadata": {
  "anaconda-cloud": {},
  "kernelspec": {
   "display_name": "Python [Root]",
   "language": "python",
   "name": "Python [Root]"
  },
  "language_info": {
   "codemirror_mode": {
    "name": "ipython",
    "version": 3
   },
   "file_extension": ".py",
   "mimetype": "text/x-python",
   "name": "python",
   "nbconvert_exporter": "python",
   "pygments_lexer": "ipython3",
   "version": "3.5.2"
  },
  "nbpresent": {
   "slides": {
    "294972db-64fd-4473-84e4-6908e72d69fd": {
     "id": "294972db-64fd-4473-84e4-6908e72d69fd",
     "prev": "61aa0c77-7273-493f-85dd-e16235138568",
     "regions": {
      "afc98694-abcb-4611-860d-907a083c23b4": {
       "attrs": {
        "height": 0.8,
        "width": 0.8,
        "x": 0.1,
        "y": 0.1
       },
       "content": null,
       "id": "afc98694-abcb-4611-860d-907a083c23b4"
      }
     }
    },
    "61aa0c77-7273-493f-85dd-e16235138568": {
     "id": "61aa0c77-7273-493f-85dd-e16235138568",
     "prev": "c6033e8b-2894-427a-8fe3-523e97e9f10a",
     "regions": {
      "6710cf20-98f3-42fa-bc73-232b67a88988": {
       "attrs": {
        "height": 0.8,
        "width": 0.8,
        "x": 0.1,
        "y": 0.1
       },
       "content": {
        "cell": "5b436bcd-5c59-48de-8b45-d77f106ced64",
        "part": "whole"
       },
       "id": "6710cf20-98f3-42fa-bc73-232b67a88988"
      }
     }
    },
    "c6033e8b-2894-427a-8fe3-523e97e9f10a": {
     "id": "c6033e8b-2894-427a-8fe3-523e97e9f10a",
     "prev": null,
     "regions": {
      "98b96de2-231b-44cf-a322-1f1048ac4425": {
       "attrs": {
        "height": 0.8,
        "width": 0.8,
        "x": 0.1,
        "y": 0.1
       },
       "content": {
        "cell": "d1256e61-e4de-42c3-8d29-21719191822f",
        "part": "whole"
       },
       "id": "98b96de2-231b-44cf-a322-1f1048ac4425"
      }
     }
    }
   },
   "themes": {}
  }
 },
 "nbformat": 4,
 "nbformat_minor": 0
}
